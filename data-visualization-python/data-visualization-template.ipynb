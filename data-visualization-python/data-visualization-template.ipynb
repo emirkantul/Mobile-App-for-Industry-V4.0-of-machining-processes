{
 "cells": [
  {
   "cell_type": "code",
   "execution_count": 1,
   "metadata": {},
   "outputs": [
    {
     "name": "stdout",
     "output_type": "stream",
     "text": [
      "ahsdhaasd\n"
     ]
    }
   ],
   "source": [
    "print(\"ahsdhaasd\")"
   ]
  }
 ],
 "metadata": {
  "kernelspec": {
   "display_name": "Python 3.10.0 ('.venv': pipenv)",
   "language": "python",
   "name": "python3"
  },
  "language_info": {
   "codemirror_mode": {
    "name": "ipython",
    "version": 3
   },
   "file_extension": ".py",
   "mimetype": "text/x-python",
   "name": "python",
   "nbconvert_exporter": "python",
   "pygments_lexer": "ipython3",
   "version": "3.10.0"
  },
  "orig_nbformat": 4,
  "vscode": {
   "interpreter": {
    "hash": "11e2e6984312ebce52fe0d72197b126c98d4e86f4c0805a4c4604bf649116524"
   }
  }
 },
 "nbformat": 4,
 "nbformat_minor": 2
}
